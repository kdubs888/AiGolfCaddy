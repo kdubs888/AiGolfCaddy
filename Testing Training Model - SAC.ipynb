{
  "cells": [
    {
      "cell_type": "code",
      "execution_count": 2,
      "metadata": {
        "colab": {
          "base_uri": "https://localhost:8080/"
        },
        "id": "G80pR3_l_Ad6",
        "outputId": "cf5e6493-73c6-4e25-e4a0-137c1486d9ee"
      },
      "outputs": [
        {
          "name": "stdout",
          "output_type": "stream",
          "text": [
            "Requirement already satisfied: stable-baselines3>=2.0.0a4 in c:\\users\\xi chen\\.conda\\envs\\mlenv\\lib\\site-packages (from stable-baselines3[extra]>=2.0.0a4) (2.3.0a1)\n",
            "Requirement already satisfied: gymnasium<0.30,>=0.28.1 in c:\\users\\xi chen\\appdata\\roaming\\python\\python39\\site-packages (from stable-baselines3>=2.0.0a4->stable-baselines3[extra]>=2.0.0a4) (0.29.1)\n",
            "Requirement already satisfied: numpy>=1.20 in c:\\users\\xi chen\\.conda\\envs\\mlenv\\lib\\site-packages (from stable-baselines3>=2.0.0a4->stable-baselines3[extra]>=2.0.0a4) (1.26.2)\n",
            "Requirement already satisfied: torch>=1.13 in c:\\users\\xi chen\\.conda\\envs\\mlenv\\lib\\site-packages (from stable-baselines3>=2.0.0a4->stable-baselines3[extra]>=2.0.0a4) (2.2.0)\n",
            "Requirement already satisfied: cloudpickle in c:\\users\\xi chen\\appdata\\roaming\\python\\python39\\site-packages (from stable-baselines3>=2.0.0a4->stable-baselines3[extra]>=2.0.0a4) (3.0.0)\n",
            "Requirement already satisfied: pandas in c:\\users\\xi chen\\.conda\\envs\\mlenv\\lib\\site-packages (from stable-baselines3>=2.0.0a4->stable-baselines3[extra]>=2.0.0a4) (2.1.4)\n",
            "Requirement already satisfied: matplotlib in c:\\users\\xi chen\\appdata\\roaming\\python\\python39\\site-packages (from stable-baselines3>=2.0.0a4->stable-baselines3[extra]>=2.0.0a4) (3.8.2)\n",
            "Requirement already satisfied: opencv-python in c:\\users\\xi chen\\.conda\\envs\\mlenv\\lib\\site-packages (from stable-baselines3[extra]>=2.0.0a4) (4.9.0.80)\n",
            "Requirement already satisfied: pygame in c:\\users\\xi chen\\.conda\\envs\\mlenv\\lib\\site-packages (from stable-baselines3[extra]>=2.0.0a4) (2.5.2)\n",
            "Requirement already satisfied: tensorboard>=2.9.1 in c:\\users\\xi chen\\.conda\\envs\\mlenv\\lib\\site-packages (from stable-baselines3[extra]>=2.0.0a4) (2.10.0)\n",
            "Requirement already satisfied: psutil in c:\\users\\xi chen\\appdata\\roaming\\python\\python39\\site-packages (from stable-baselines3[extra]>=2.0.0a4) (5.9.6)\n",
            "Requirement already satisfied: tqdm in c:\\users\\xi chen\\.conda\\envs\\mlenv\\lib\\site-packages (from stable-baselines3[extra]>=2.0.0a4) (4.66.1)\n",
            "Requirement already satisfied: rich in c:\\users\\xi chen\\.conda\\envs\\mlenv\\lib\\site-packages (from stable-baselines3[extra]>=2.0.0a4) (13.7.0)\n",
            "Requirement already satisfied: shimmy~=1.3.0 in c:\\users\\xi chen\\.conda\\envs\\mlenv\\lib\\site-packages (from shimmy[atari]~=1.3.0; extra == \"extra\"->stable-baselines3[extra]>=2.0.0a4) (1.3.0)\n",
            "Requirement already satisfied: pillow in c:\\users\\xi chen\\appdata\\roaming\\python\\python39\\site-packages (from stable-baselines3[extra]>=2.0.0a4) (9.3.0)\n",
            "Requirement already satisfied: autorom~=0.6.1 in c:\\users\\xi chen\\.conda\\envs\\mlenv\\lib\\site-packages (from autorom[accept-rom-license]~=0.6.1; extra == \"extra\"->stable-baselines3[extra]>=2.0.0a4) (0.6.1)\n",
            "Requirement already satisfied: click in c:\\users\\xi chen\\.conda\\envs\\mlenv\\lib\\site-packages (from autorom~=0.6.1->autorom[accept-rom-license]~=0.6.1; extra == \"extra\"->stable-baselines3[extra]>=2.0.0a4) (8.1.7)\n",
            "Requirement already satisfied: requests in c:\\users\\xi chen\\appdata\\roaming\\python\\python39\\site-packages (from autorom~=0.6.1->autorom[accept-rom-license]~=0.6.1; extra == \"extra\"->stable-baselines3[extra]>=2.0.0a4) (2.31.0)\n",
            "Requirement already satisfied: AutoROM.accept-rom-license in c:\\users\\xi chen\\.conda\\envs\\mlenv\\lib\\site-packages (from autorom[accept-rom-license]~=0.6.1; extra == \"extra\"->stable-baselines3[extra]>=2.0.0a4) (0.6.1)\n",
            "Requirement already satisfied: typing-extensions>=4.3.0 in c:\\users\\xi chen\\.conda\\envs\\mlenv\\lib\\site-packages (from gymnasium<0.30,>=0.28.1->stable-baselines3>=2.0.0a4->stable-baselines3[extra]>=2.0.0a4) (4.9.0)\n",
            "Requirement already satisfied: farama-notifications>=0.0.1 in c:\\users\\xi chen\\appdata\\roaming\\python\\python39\\site-packages (from gymnasium<0.30,>=0.28.1->stable-baselines3>=2.0.0a4->stable-baselines3[extra]>=2.0.0a4) (0.0.4)\n",
            "Requirement already satisfied: importlib-metadata>=4.8.0 in c:\\users\\xi chen\\appdata\\roaming\\python\\python39\\site-packages (from gymnasium<0.30,>=0.28.1->stable-baselines3>=2.0.0a4->stable-baselines3[extra]>=2.0.0a4) (6.8.0)\n",
            "Requirement already satisfied: ale-py~=0.8.1 in c:\\users\\xi chen\\.conda\\envs\\mlenv\\lib\\site-packages (from shimmy[atari]~=1.3.0; extra == \"extra\"->stable-baselines3[extra]>=2.0.0a4) (0.8.1)\n",
            "Requirement already satisfied: absl-py>=0.4 in c:\\users\\xi chen\\.conda\\envs\\mlenv\\lib\\site-packages (from tensorboard>=2.9.1->stable-baselines3[extra]>=2.0.0a4) (1.4.0)\n",
            "Requirement already satisfied: grpcio>=1.24.3 in c:\\users\\xi chen\\.conda\\envs\\mlenv\\lib\\site-packages (from tensorboard>=2.9.1->stable-baselines3[extra]>=2.0.0a4) (1.42.0)\n",
            "Requirement already satisfied: google-auth<3,>=1.6.3 in c:\\users\\xi chen\\.conda\\envs\\mlenv\\lib\\site-packages (from tensorboard>=2.9.1->stable-baselines3[extra]>=2.0.0a4) (2.22.0)\n",
            "Requirement already satisfied: google-auth-oauthlib<0.5,>=0.4.1 in c:\\users\\xi chen\\.conda\\envs\\mlenv\\lib\\site-packages (from tensorboard>=2.9.1->stable-baselines3[extra]>=2.0.0a4) (0.4.4)\n",
            "Requirement already satisfied: markdown>=2.6.8 in c:\\users\\xi chen\\.conda\\envs\\mlenv\\lib\\site-packages (from tensorboard>=2.9.1->stable-baselines3[extra]>=2.0.0a4) (3.4.1)\n",
            "Requirement already satisfied: protobuf<3.20,>=3.9.2 in c:\\users\\xi chen\\.conda\\envs\\mlenv\\lib\\site-packages (from tensorboard>=2.9.1->stable-baselines3[extra]>=2.0.0a4) (3.19.6)\n",
            "Requirement already satisfied: setuptools>=41.0.0 in c:\\users\\xi chen\\.conda\\envs\\mlenv\\lib\\site-packages (from tensorboard>=2.9.1->stable-baselines3[extra]>=2.0.0a4) (68.2.2)\n",
            "Requirement already satisfied: tensorboard-data-server<0.7.0,>=0.6.0 in c:\\users\\xi chen\\.conda\\envs\\mlenv\\lib\\site-packages (from tensorboard>=2.9.1->stable-baselines3[extra]>=2.0.0a4) (0.6.1)\n",
            "Requirement already satisfied: tensorboard-plugin-wit>=1.6.0 in c:\\users\\xi chen\\.conda\\envs\\mlenv\\lib\\site-packages (from tensorboard>=2.9.1->stable-baselines3[extra]>=2.0.0a4) (1.8.1)\n",
            "Requirement already satisfied: werkzeug>=1.0.1 in c:\\users\\xi chen\\.conda\\envs\\mlenv\\lib\\site-packages (from tensorboard>=2.9.1->stable-baselines3[extra]>=2.0.0a4) (2.2.3)\n",
            "Requirement already satisfied: wheel>=0.26 in c:\\users\\xi chen\\.conda\\envs\\mlenv\\lib\\site-packages (from tensorboard>=2.9.1->stable-baselines3[extra]>=2.0.0a4) (0.41.2)\n",
            "Requirement already satisfied: filelock in c:\\users\\xi chen\\appdata\\roaming\\python\\python39\\site-packages (from torch>=1.13->stable-baselines3>=2.0.0a4->stable-baselines3[extra]>=2.0.0a4) (3.9.0)\n",
            "Requirement already satisfied: sympy in c:\\users\\xi chen\\appdata\\roaming\\python\\python39\\site-packages (from torch>=1.13->stable-baselines3>=2.0.0a4->stable-baselines3[extra]>=2.0.0a4) (1.12)\n",
            "Requirement already satisfied: networkx in c:\\users\\xi chen\\appdata\\roaming\\python\\python39\\site-packages (from torch>=1.13->stable-baselines3>=2.0.0a4->stable-baselines3[extra]>=2.0.0a4) (3.0)\n",
            "Requirement already satisfied: jinja2 in c:\\users\\xi chen\\appdata\\roaming\\python\\python39\\site-packages (from torch>=1.13->stable-baselines3>=2.0.0a4->stable-baselines3[extra]>=2.0.0a4) (3.1.2)\n",
            "Requirement already satisfied: fsspec in c:\\users\\xi chen\\.conda\\envs\\mlenv\\lib\\site-packages (from torch>=1.13->stable-baselines3>=2.0.0a4->stable-baselines3[extra]>=2.0.0a4) (2023.12.2)\n",
            "Requirement already satisfied: contourpy>=1.0.1 in c:\\users\\xi chen\\appdata\\roaming\\python\\python39\\site-packages (from matplotlib->stable-baselines3>=2.0.0a4->stable-baselines3[extra]>=2.0.0a4) (1.2.0)\n",
            "Requirement already satisfied: cycler>=0.10 in c:\\users\\xi chen\\appdata\\roaming\\python\\python39\\site-packages (from matplotlib->stable-baselines3>=2.0.0a4->stable-baselines3[extra]>=2.0.0a4) (0.12.1)\n",
            "Requirement already satisfied: fonttools>=4.22.0 in c:\\users\\xi chen\\appdata\\roaming\\python\\python39\\site-packages (from matplotlib->stable-baselines3>=2.0.0a4->stable-baselines3[extra]>=2.0.0a4) (4.45.1)\n",
            "Requirement already satisfied: kiwisolver>=1.3.1 in c:\\users\\xi chen\\appdata\\roaming\\python\\python39\\site-packages (from matplotlib->stable-baselines3>=2.0.0a4->stable-baselines3[extra]>=2.0.0a4) (1.4.5)\n",
            "Requirement already satisfied: packaging>=20.0 in c:\\users\\xi chen\\appdata\\roaming\\python\\python39\\site-packages (from matplotlib->stable-baselines3>=2.0.0a4->stable-baselines3[extra]>=2.0.0a4) (23.2)\n",
            "Requirement already satisfied: pyparsing>=2.3.1 in c:\\users\\xi chen\\appdata\\roaming\\python\\python39\\site-packages (from matplotlib->stable-baselines3>=2.0.0a4->stable-baselines3[extra]>=2.0.0a4) (3.1.1)\n",
            "Requirement already satisfied: python-dateutil>=2.7 in c:\\users\\xi chen\\appdata\\roaming\\python\\python39\\site-packages (from matplotlib->stable-baselines3>=2.0.0a4->stable-baselines3[extra]>=2.0.0a4) (2.8.2)\n",
            "Requirement already satisfied: importlib-resources>=3.2.0 in c:\\users\\xi chen\\appdata\\roaming\\python\\python39\\site-packages (from matplotlib->stable-baselines3>=2.0.0a4->stable-baselines3[extra]>=2.0.0a4) (6.1.1)\n",
            "Requirement already satisfied: pytz>=2020.1 in c:\\users\\xi chen\\appdata\\roaming\\python\\python39\\site-packages (from pandas->stable-baselines3>=2.0.0a4->stable-baselines3[extra]>=2.0.0a4) (2023.3.post1)\n",
            "Requirement already satisfied: tzdata>=2022.1 in c:\\users\\xi chen\\appdata\\roaming\\python\\python39\\site-packages (from pandas->stable-baselines3>=2.0.0a4->stable-baselines3[extra]>=2.0.0a4) (2023.3)\n",
            "Requirement already satisfied: markdown-it-py>=2.2.0 in c:\\users\\xi chen\\.conda\\envs\\mlenv\\lib\\site-packages (from rich->stable-baselines3[extra]>=2.0.0a4) (3.0.0)\n",
            "Requirement already satisfied: pygments<3.0.0,>=2.13.0 in c:\\users\\xi chen\\appdata\\roaming\\python\\python39\\site-packages (from rich->stable-baselines3[extra]>=2.0.0a4) (2.17.2)\n",
            "Requirement already satisfied: colorama in c:\\users\\xi chen\\appdata\\roaming\\python\\python39\\site-packages (from tqdm->stable-baselines3[extra]>=2.0.0a4) (0.4.6)\n",
            "Requirement already satisfied: cachetools<6.0,>=2.0.0 in c:\\users\\xi chen\\.conda\\envs\\mlenv\\lib\\site-packages (from google-auth<3,>=1.6.3->tensorboard>=2.9.1->stable-baselines3[extra]>=2.0.0a4) (4.2.2)\n",
            "Requirement already satisfied: pyasn1-modules>=0.2.1 in c:\\users\\xi chen\\.conda\\envs\\mlenv\\lib\\site-packages (from google-auth<3,>=1.6.3->tensorboard>=2.9.1->stable-baselines3[extra]>=2.0.0a4) (0.2.8)\n",
            "Requirement already satisfied: rsa<5,>=3.1.4 in c:\\users\\xi chen\\.conda\\envs\\mlenv\\lib\\site-packages (from google-auth<3,>=1.6.3->tensorboard>=2.9.1->stable-baselines3[extra]>=2.0.0a4) (4.7.2)\n",
            "Requirement already satisfied: six>=1.9.0 in c:\\users\\xi chen\\appdata\\roaming\\python\\python39\\site-packages (from google-auth<3,>=1.6.3->tensorboard>=2.9.1->stable-baselines3[extra]>=2.0.0a4) (1.16.0)\n",
            "Requirement already satisfied: urllib3<2.0 in c:\\users\\xi chen\\appdata\\roaming\\python\\python39\\site-packages (from google-auth<3,>=1.6.3->tensorboard>=2.9.1->stable-baselines3[extra]>=2.0.0a4) (1.26.13)\n",
            "Requirement already satisfied: requests-oauthlib>=0.7.0 in c:\\users\\xi chen\\.conda\\envs\\mlenv\\lib\\site-packages (from google-auth-oauthlib<0.5,>=0.4.1->tensorboard>=2.9.1->stable-baselines3[extra]>=2.0.0a4) (1.3.0)\n",
            "Requirement already satisfied: zipp>=0.5 in c:\\users\\xi chen\\appdata\\roaming\\python\\python39\\site-packages (from importlib-metadata>=4.8.0->gymnasium<0.30,>=0.28.1->stable-baselines3>=2.0.0a4->stable-baselines3[extra]>=2.0.0a4) (3.17.0)\n",
            "Requirement already satisfied: mdurl~=0.1 in c:\\users\\xi chen\\.conda\\envs\\mlenv\\lib\\site-packages (from markdown-it-py>=2.2.0->rich->stable-baselines3[extra]>=2.0.0a4) (0.1.2)\n",
            "Requirement already satisfied: charset-normalizer<4,>=2 in c:\\users\\xi chen\\appdata\\roaming\\python\\python39\\site-packages (from requests->autorom~=0.6.1->autorom[accept-rom-license]~=0.6.1; extra == \"extra\"->stable-baselines3[extra]>=2.0.0a4) (2.1.1)\n",
            "Requirement already satisfied: idna<4,>=2.5 in c:\\users\\xi chen\\appdata\\roaming\\python\\python39\\site-packages (from requests->autorom~=0.6.1->autorom[accept-rom-license]~=0.6.1; extra == \"extra\"->stable-baselines3[extra]>=2.0.0a4) (3.4)\n",
            "Requirement already satisfied: certifi>=2017.4.17 in c:\\users\\xi chen\\appdata\\roaming\\python\\python39\\site-packages (from requests->autorom~=0.6.1->autorom[accept-rom-license]~=0.6.1; extra == \"extra\"->stable-baselines3[extra]>=2.0.0a4) (2022.12.7)\n",
            "Requirement already satisfied: MarkupSafe>=2.1.1 in c:\\users\\xi chen\\appdata\\roaming\\python\\python39\\site-packages (from werkzeug>=1.0.1->tensorboard>=2.9.1->stable-baselines3[extra]>=2.0.0a4) (2.1.3)\n",
            "Requirement already satisfied: mpmath>=0.19 in c:\\users\\xi chen\\appdata\\roaming\\python\\python39\\site-packages (from sympy->torch>=1.13->stable-baselines3>=2.0.0a4->stable-baselines3[extra]>=2.0.0a4) (1.3.0)\n",
            "Requirement already satisfied: pyasn1<0.5.0,>=0.4.6 in c:\\users\\xi chen\\.conda\\envs\\mlenv\\lib\\site-packages (from pyasn1-modules>=0.2.1->google-auth<3,>=1.6.3->tensorboard>=2.9.1->stable-baselines3[extra]>=2.0.0a4) (0.4.8)\n",
            "Requirement already satisfied: oauthlib>=3.0.0 in c:\\users\\xi chen\\.conda\\envs\\mlenv\\lib\\site-packages (from requests-oauthlib>=0.7.0->google-auth-oauthlib<0.5,>=0.4.1->tensorboard>=2.9.1->stable-baselines3[extra]>=2.0.0a4) (3.2.2)\n",
            "Note: you may need to restart the kernel to use updated packages.\n"
          ]
        }
      ],
      "source": [
        "%pip install \"stable-baselines3[extra]>=2.0.0a4\""
      ]
    },
    {
      "cell_type": "code",
      "execution_count": 3,
      "metadata": {
        "id": "DnV0mEeqjcVi"
      },
      "outputs": [],
      "source": [
        "# Function to check if a point is inside a polygon\n",
        "def point_in_polygon(ptc, polygon):\n",
        "    # Get the x and y coordinates of the point\n",
        "    x, y = ptc\n",
        "\n",
        "    # Initialize a flag to check if the point is inside the polygon\n",
        "    inside = False\n",
        "\n",
        "    # Take the first point in the polygon\n",
        "    p1 = polygon[0]\n",
        "\n",
        "    # Loop through each side of the polygon\n",
        "    for i in range(1, len(polygon) + 1):\n",
        "        # Take the next point in the polygon\n",
        "        p2 = polygon[i % len(polygon)]\n",
        "\n",
        "        # Check if the point is roughly at the same height as the current side\n",
        "        if y > min(p1[1], p2[1]):\n",
        "\n",
        "            # Check if the point is not too high above the side or too low below the side\n",
        "            if y <= max(p1[1], p2[1]):\n",
        "\n",
        "                # Check if the point is to the left of the rightmost point of the side\n",
        "                if x <= max(p1[0], p2[0]):\n",
        "\n",
        "                    # Calculate the x-coordinate where a line from the point intersects with the side\n",
        "                    x_intersection = (y - p1[1]) * (p2[0] - p1[0]) / (p2[1] - p1[1]) + p1[0]\n",
        "\n",
        "                    # Check if the point is on or to the left of the calculated x-coordinate\n",
        "                    if p1[0] == p2[0] or x <= x_intersection:\n",
        "\n",
        "                        # Flip the inside flag, indicating that the point is inside the polygon\n",
        "                        inside = not inside\n",
        "\n",
        "        # Move to the next side of the polygon\n",
        "        p1 = p2\n",
        "\n",
        "    # Return whether the point is inside the polygon or not\n",
        "    return inside"
      ]
    },
    {
      "cell_type": "code",
      "execution_count": 4,
      "metadata": {
        "id": "osdrCo0b_S4b"
      },
      "outputs": [],
      "source": [
        "import numpy as np\n",
        "import math\n",
        "import gymnasium as gym\n",
        "from gymnasium import spaces\n",
        "\n",
        "class GolfEnv(gym.Env):\n",
        "  def __init__(self):\n",
        "    #Define the size of the grid\n",
        "    self.grid_width = 200\n",
        "    self.grid_height = 300\n",
        "    self.shot_counter = 0\n",
        "\n",
        "    #Define the action space as a Box space\n",
        "    self.action_space = spaces.Box(\n",
        "        low=np.array([0, 0, 0]),  # Minimum values for direction, club-type and swing strength #######\n",
        "        high=np.array([180, 12, 3]),  # Maximum values for direction, club-type and swing strength ########\n",
        "        dtype=np.float32\n",
        "    )\n",
        "\n",
        "    #Define the observation space\n",
        "    self.observation_space = spaces.Dict({\n",
        "          'x':spaces.Discrete(self.grid_width),\n",
        "          'y':spaces.Discrete(self.grid_height)\n",
        "      })\n",
        "\n",
        "    #ball position\n",
        "    self.ball_position = {\n",
        "      'x': 50,\n",
        "      'y': 0,\n",
        "    }\n",
        "    #green position\n",
        "    self.green_left_corner = [self.grid_width-20, self.grid_height-20]\n",
        "    self.green_right_corner = [self.grid_width, self.grid_height]\n",
        "\n",
        "    #creating a dictionary to convert club to distance\n",
        "    self.club_distances = {\n",
        "            0: 200,\n",
        "            1: 180,\n",
        "            2: 170,\n",
        "            3: 160,\n",
        "            4: 150,\n",
        "            5: 145,\n",
        "            6: 138,\n",
        "            7: 127,\n",
        "            8: 120,\n",
        "            9: 110,\n",
        "            10: 97,\n",
        "            11: 85,\n",
        "            12: 55,\n",
        "        }\n",
        "\n",
        "    self.swing_strength = { #######\n",
        "            0: 0.25,\n",
        "            1: 0.5,\n",
        "            2: 0.75,\n",
        "            3: 1,\n",
        "         }\n",
        "\n",
        "\n",
        "  def step(self, action):\n",
        "\n",
        "    # Extract direction, club type, and swing strength from the action\n",
        "    direction = action[0]\n",
        "    club_type = int(action[1])\n",
        "    swing_strength = int(action[2])\n",
        "    print(swing_strength)\n",
        "\n",
        "    # Use direction and scaled distance by swing strength to calculate the new position\n",
        "    angle_rad = math.radians(direction)\n",
        "    scaled_distance = self.club_distances[club_type] * self.swing_strength[swing_strength]  # Scale distance by swing strength ########\n",
        "    delta_x = scaled_distance * math.cos(angle_rad)\n",
        "    delta_y = scaled_distance * math.sin(angle_rad)\n",
        "\n",
        "    # Calculate new position\n",
        "    new_x = self.ball_position['x'] + delta_x\n",
        "    new_y = self.ball_position['y'] + delta_y\n",
        "\n",
        "    new_x = round(new_x)\n",
        "    new_y = round(new_y)\n",
        "\n",
        "    #sets the reward to 0\n",
        "    reward = 0\n",
        "    terminated=False\n",
        "    truncated=False\n",
        "    #checks if the ball position is in the observation space and if not it sets it to the closest edge\n",
        "    if new_x>self.observation_space['x'].n:\n",
        "      reward = reward-10\n",
        "      new_x=self.observation_space['x'].n\n",
        "    if new_x<0:\n",
        "      reward = reward-10\n",
        "      new_x=0\n",
        "    if new_y>self.observation_space['y'].n:\n",
        "      reward = reward-10\n",
        "      new_y=self.observation_space['y'].n\n",
        "\n",
        "    #sets the ball position to the new position\n",
        "    self.ball_position['x']=new_x\n",
        "    self.ball_position['y']=new_y\n",
        "\n",
        "    #checks if the ball position is on the green\n",
        "    if (self.green_left_corner[0]<=self.ball_position['x']>=self.green_right_corner[0]) and (self.green_left_corner[1]<=self.ball_position['y']>=self.green_right_corner[1]):\n",
        "      reward=10\n",
        "      terminated = True\n",
        "\n",
        "    bunker = [(25, 53), (26, 42), (36, 34), (49, 33), (56, 44), (78, 95), (86, 138), (86, 45), (78, 147), (67, 142), (62, 148), (60, 176), (42, 186), (31, 176), (29, 168), (30, 150), (57, 180), (58, 111), (29, 60)]\n",
        "\n",
        "    ptc = (self.ball_position['x'], self.ball_position['y'])\n",
        "\n",
        "    if point_in_polygon(ptc, bunker):\n",
        "      reward=10\n",
        "\n",
        "    #adds a shot to the shot counter\n",
        "    self.shot_counter+=1\n",
        "\n",
        "    #limit to 10 shots per round\n",
        "    if self.shot_counter>=10:\n",
        "      truncated=True\n",
        "\n",
        "    observation = {\n",
        "        'x': self.ball_position['x'],\n",
        "        'y': self.ball_position['y']\n",
        "    }\n",
        "\n",
        "    return observation, reward, terminated, truncated, {}\n",
        "\n",
        "  def reset(self, seed=None, options=None):\n",
        "    #sets ball position to the middle of the start of the hole\n",
        "    self.ball_position = {\n",
        "        'x': 50,\n",
        "        'y': 0,\n",
        "    }\n",
        "\n",
        "    observation = {\n",
        "        'x': self.ball_position['x'],\n",
        "        'y': self.ball_position['y']\n",
        "    }\n",
        "\n",
        "    return observation, {}"
      ]
    },
    {
      "cell_type": "code",
      "execution_count": 5,
      "metadata": {
        "colab": {
          "base_uri": "https://localhost:8080/"
        },
        "id": "1m0feQwOM5Sx",
        "outputId": "24b8782a-cdc7-459a-e576-2c1a94a66f24"
      },
      "outputs": [],
      "source": [
        "from stable_baselines3.common.env_checker import check_env"
      ]
    },
    {
      "cell_type": "code",
      "execution_count": 6,
      "metadata": {
        "colab": {
          "base_uri": "https://localhost:8080/",
          "height": 211
        },
        "id": "Tang2aczNNUm",
        "outputId": "df35995c-865e-4f46-8795-85f244667f40"
      },
      "outputs": [
        {
          "name": "stdout",
          "output_type": "stream",
          "text": [
            "1\n",
            "1\n",
            "1\n",
            "0\n",
            "0\n",
            "0\n",
            "0\n",
            "1\n",
            "0\n",
            "1\n",
            "1\n"
          ]
        },
        {
          "name": "stderr",
          "output_type": "stream",
          "text": [
            "c:\\Users\\Xi Chen\\.conda\\envs\\mlenv\\lib\\site-packages\\stable_baselines3\\common\\env_checker.py:441: UserWarning: We recommend you to use a symmetric and normalized Box action space (range=[-1, 1]) cf. https://stable-baselines3.readthedocs.io/en/master/guide/rl_tips.html\n",
            "  warnings.warn(\n"
          ]
        }
      ],
      "source": [
        "env = GolfEnv()\n",
        "check_env(env, warn=True)"
      ]
    },
    {
      "cell_type": "code",
      "execution_count": 7,
      "metadata": {},
      "outputs": [
        {
          "name": "stdout",
          "output_type": "stream",
          "text": [
            "3\n",
            "The ball is not in the bunker.\n",
            "Final Ball Position: {'x': 40, 'y': 185}\n"
          ]
        }
      ],
      "source": [
        "golf_env = GolfEnv()\n",
        "\n",
        "golf_env.ball_position = {'x': 40, 'y': 40}\n",
        "\n",
        "# Define an action (example: direction=90, club_type=5, strnght=3)\n",
        "action = np.array([90, 5, 3])\n",
        "\n",
        "# Call the step method to simulate the shot\n",
        "observation, reward, terminated, truncated, _ = golf_env.step(action)\n",
        "\n",
        "# Check if the ball is in the bunker based on the reward\n",
        "if reward == 10:\n",
        "    print(\"The ball is in the bunker!\")\n",
        "else:\n",
        "    print(\"The ball is not in the bunker.\")\n",
        "\n",
        "# Print the final ball position\n",
        "print(\"Final Ball Position:\", golf_env.ball_position)"
      ]
    },
    {
      "cell_type": "markdown",
      "metadata": {},
      "source": [
        "**Traning the Model**"
      ]
    },
    {
      "cell_type": "code",
      "execution_count": 8,
      "metadata": {},
      "outputs": [
        {
          "name": "stdout",
          "output_type": "stream",
          "text": [
            "0\n",
            "0\n",
            "1\n",
            "0\n",
            "0\n",
            "2\n",
            "2\n",
            "1\n",
            "1\n",
            "1\n",
            "2\n",
            "Dict('x': Discrete(200), 'y': Discrete(300))\n",
            "[98.43301    6.609448   1.4684056]\n"
          ]
        }
      ],
      "source": [
        "env = GolfEnv()\n",
        "check_env(env)\n",
        "\n",
        "obs, _ = env.reset()\n",
        "print(env.observation_space)\n",
        "print(env.action_space.sample())"
      ]
    },
    {
      "cell_type": "code",
      "execution_count": 9,
      "metadata": {},
      "outputs": [],
      "source": [
        "#from stable_baselines3.common.env_checker import check_env\n",
        "from stable_baselines3 import PPO, A2C, DQN, HerReplayBuffer, SAC \n",
        "\n",
        "from stable_baselines3.common.env_util import make_vec_env"
      ]
    },
    {
      "cell_type": "code",
      "execution_count": 10,
      "metadata": {},
      "outputs": [
        {
          "name": "stdout",
          "output_type": "stream",
          "text": [
            "Using cpu device\n",
            "Wrapping the env with a `Monitor` wrapper\n",
            "Wrapping the env in a DummyVecEnv.\n"
          ]
        }
      ],
      "source": [
        "vec_env = make_vec_env(GolfEnv, n_envs=1)\n",
        "\n",
        "model = SAC(\"MultiInputPolicy\", env, verbose=1)"
      ]
    },
    {
      "cell_type": "code",
      "execution_count": null,
      "metadata": {},
      "outputs": [],
      "source": [
        "model.learn(total_timesteps=10000)"
      ]
    },
    {
      "cell_type": "markdown",
      "metadata": {},
      "source": [
        "***Testing The Model***"
      ]
    },
    {
      "cell_type": "code",
      "execution_count": 13,
      "metadata": {},
      "outputs": [
        {
          "name": "stdout",
          "output_type": "stream",
          "text": [
            "Step 1\n",
            "Action:  [[89.38237    9.078785   1.5541059]]\n",
            "1\n",
            "obs= OrderedDict([('x', array([51], dtype=int64)), ('y', array([55], dtype=int64))]) reward= [10.] done= [False]\n",
            "Step 2\n",
            "Action:  [[88.20805   8.168732  1.529407]]\n",
            "1\n",
            "obs= OrderedDict([('x', array([53], dtype=int64)), ('y', array([115], dtype=int64))]) reward= [0.] done= [False]\n",
            "Step 3\n",
            "Action:  [[88.15684    8.13559    1.5332952]]\n",
            "1\n",
            "obs= OrderedDict([('x', array([55], dtype=int64)), ('y', array([175], dtype=int64))]) reward= [0.] done= [False]\n",
            "Step 4\n",
            "Action:  [[88.15028    8.135157   1.5272022]]\n",
            "1\n",
            "obs= OrderedDict([('x', array([57], dtype=int64)), ('y', array([235], dtype=int64))]) reward= [0.] done= [False]\n",
            "Step 5\n",
            "Action:  [[88.4313     8.257532   1.5361508]]\n",
            "1\n",
            "obs= OrderedDict([('x', array([59], dtype=int64)), ('y', array([295], dtype=int64))]) reward= [0.] done= [False]\n",
            "Step 6\n",
            "Action:  [[88.73091    8.341911   1.5324343]]\n",
            "1\n",
            "obs= OrderedDict([('x', array([60], dtype=int64)), ('y', array([300], dtype=int64))]) reward= [-10.] done= [False]\n"
          ]
        },
        {
          "name": "stderr",
          "output_type": "stream",
          "text": [
            "c:\\Users\\Xi Chen\\.conda\\envs\\mlenv\\lib\\site-packages\\stable_baselines3\\common\\vec_env\\base_vec_env.py:243: UserWarning: You tried to call render() but no `render_mode` was passed to the env constructor.\n",
            "  warnings.warn(\"You tried to call render() but no `render_mode` was passed to the env constructor.\")\n"
          ]
        },
        {
          "ename": "RuntimeError",
          "evalue": "Class values must be smaller than num_classes.",
          "output_type": "error",
          "traceback": [
            "\u001b[1;31m---------------------------------------------------------------------------\u001b[0m",
            "\u001b[1;31mRuntimeError\u001b[0m                              Traceback (most recent call last)",
            "Cell \u001b[1;32mIn[13], line 4\u001b[0m\n\u001b[0;32m      2\u001b[0m n_steps \u001b[38;5;241m=\u001b[39m \u001b[38;5;241m20\u001b[39m\n\u001b[0;32m      3\u001b[0m \u001b[38;5;28;01mfor\u001b[39;00m step \u001b[38;5;129;01min\u001b[39;00m \u001b[38;5;28mrange\u001b[39m(n_steps):\n\u001b[1;32m----> 4\u001b[0m     action, _ \u001b[38;5;241m=\u001b[39m \u001b[43mmodel\u001b[49m\u001b[38;5;241;43m.\u001b[39;49m\u001b[43mpredict\u001b[49m\u001b[43m(\u001b[49m\u001b[43mobs\u001b[49m\u001b[43m,\u001b[49m\u001b[43m \u001b[49m\u001b[43mdeterministic\u001b[49m\u001b[38;5;241;43m=\u001b[39;49m\u001b[38;5;28;43;01mTrue\u001b[39;49;00m\u001b[43m)\u001b[49m\n\u001b[0;32m      6\u001b[0m     \u001b[38;5;28mprint\u001b[39m(\u001b[38;5;124mf\u001b[39m\u001b[38;5;124m\"\u001b[39m\u001b[38;5;124mStep \u001b[39m\u001b[38;5;132;01m{\u001b[39;00mstep\u001b[38;5;250m \u001b[39m\u001b[38;5;241m+\u001b[39m\u001b[38;5;250m \u001b[39m\u001b[38;5;241m1\u001b[39m\u001b[38;5;132;01m}\u001b[39;00m\u001b[38;5;124m\"\u001b[39m)\n\u001b[0;32m      7\u001b[0m     \u001b[38;5;28mprint\u001b[39m(\u001b[38;5;124m\"\u001b[39m\u001b[38;5;124mAction: \u001b[39m\u001b[38;5;124m\"\u001b[39m, action)\n",
            "File \u001b[1;32mc:\\Users\\Xi Chen\\.conda\\envs\\mlenv\\lib\\site-packages\\stable_baselines3\\common\\base_class.py:553\u001b[0m, in \u001b[0;36mBaseAlgorithm.predict\u001b[1;34m(self, observation, state, episode_start, deterministic)\u001b[0m\n\u001b[0;32m    533\u001b[0m \u001b[38;5;28;01mdef\u001b[39;00m \u001b[38;5;21mpredict\u001b[39m(\n\u001b[0;32m    534\u001b[0m     \u001b[38;5;28mself\u001b[39m,\n\u001b[0;32m    535\u001b[0m     observation: Union[np\u001b[38;5;241m.\u001b[39mndarray, Dict[\u001b[38;5;28mstr\u001b[39m, np\u001b[38;5;241m.\u001b[39mndarray]],\n\u001b[1;32m   (...)\u001b[0m\n\u001b[0;32m    538\u001b[0m     deterministic: \u001b[38;5;28mbool\u001b[39m \u001b[38;5;241m=\u001b[39m \u001b[38;5;28;01mFalse\u001b[39;00m,\n\u001b[0;32m    539\u001b[0m ) \u001b[38;5;241m-\u001b[39m\u001b[38;5;241m>\u001b[39m Tuple[np\u001b[38;5;241m.\u001b[39mndarray, Optional[Tuple[np\u001b[38;5;241m.\u001b[39mndarray, \u001b[38;5;241m.\u001b[39m\u001b[38;5;241m.\u001b[39m\u001b[38;5;241m.\u001b[39m]]]:\n\u001b[0;32m    540\u001b[0m \u001b[38;5;250m    \u001b[39m\u001b[38;5;124;03m\"\"\"\u001b[39;00m\n\u001b[0;32m    541\u001b[0m \u001b[38;5;124;03m    Get the policy action from an observation (and optional hidden state).\u001b[39;00m\n\u001b[0;32m    542\u001b[0m \u001b[38;5;124;03m    Includes sugar-coating to handle different observations (e.g. normalizing images).\u001b[39;00m\n\u001b[1;32m   (...)\u001b[0m\n\u001b[0;32m    551\u001b[0m \u001b[38;5;124;03m        (used in recurrent policies)\u001b[39;00m\n\u001b[0;32m    552\u001b[0m \u001b[38;5;124;03m    \"\"\"\u001b[39;00m\n\u001b[1;32m--> 553\u001b[0m     \u001b[38;5;28;01mreturn\u001b[39;00m \u001b[38;5;28;43mself\u001b[39;49m\u001b[38;5;241;43m.\u001b[39;49m\u001b[43mpolicy\u001b[49m\u001b[38;5;241;43m.\u001b[39;49m\u001b[43mpredict\u001b[49m\u001b[43m(\u001b[49m\u001b[43mobservation\u001b[49m\u001b[43m,\u001b[49m\u001b[43m \u001b[49m\u001b[43mstate\u001b[49m\u001b[43m,\u001b[49m\u001b[43m \u001b[49m\u001b[43mepisode_start\u001b[49m\u001b[43m,\u001b[49m\u001b[43m \u001b[49m\u001b[43mdeterministic\u001b[49m\u001b[43m)\u001b[49m\n",
            "File \u001b[1;32mc:\\Users\\Xi Chen\\.conda\\envs\\mlenv\\lib\\site-packages\\stable_baselines3\\common\\policies.py:366\u001b[0m, in \u001b[0;36mBasePolicy.predict\u001b[1;34m(self, observation, state, episode_start, deterministic)\u001b[0m\n\u001b[0;32m    363\u001b[0m obs_tensor, vectorized_env \u001b[38;5;241m=\u001b[39m \u001b[38;5;28mself\u001b[39m\u001b[38;5;241m.\u001b[39mobs_to_tensor(observation)\n\u001b[0;32m    365\u001b[0m \u001b[38;5;28;01mwith\u001b[39;00m th\u001b[38;5;241m.\u001b[39mno_grad():\n\u001b[1;32m--> 366\u001b[0m     actions \u001b[38;5;241m=\u001b[39m \u001b[38;5;28;43mself\u001b[39;49m\u001b[38;5;241;43m.\u001b[39;49m\u001b[43m_predict\u001b[49m\u001b[43m(\u001b[49m\u001b[43mobs_tensor\u001b[49m\u001b[43m,\u001b[49m\u001b[43m \u001b[49m\u001b[43mdeterministic\u001b[49m\u001b[38;5;241;43m=\u001b[39;49m\u001b[43mdeterministic\u001b[49m\u001b[43m)\u001b[49m\n\u001b[0;32m    367\u001b[0m \u001b[38;5;66;03m# Convert to numpy, and reshape to the original action shape\u001b[39;00m\n\u001b[0;32m    368\u001b[0m actions \u001b[38;5;241m=\u001b[39m actions\u001b[38;5;241m.\u001b[39mcpu()\u001b[38;5;241m.\u001b[39mnumpy()\u001b[38;5;241m.\u001b[39mreshape((\u001b[38;5;241m-\u001b[39m\u001b[38;5;241m1\u001b[39m, \u001b[38;5;241m*\u001b[39m\u001b[38;5;28mself\u001b[39m\u001b[38;5;241m.\u001b[39maction_space\u001b[38;5;241m.\u001b[39mshape))  \u001b[38;5;66;03m# type: ignore[misc]\u001b[39;00m\n",
            "File \u001b[1;32mc:\\Users\\Xi Chen\\.conda\\envs\\mlenv\\lib\\site-packages\\stable_baselines3\\sac\\policies.py:353\u001b[0m, in \u001b[0;36mSACPolicy._predict\u001b[1;34m(self, observation, deterministic)\u001b[0m\n\u001b[0;32m    352\u001b[0m \u001b[38;5;28;01mdef\u001b[39;00m \u001b[38;5;21m_predict\u001b[39m(\u001b[38;5;28mself\u001b[39m, observation: PyTorchObs, deterministic: \u001b[38;5;28mbool\u001b[39m \u001b[38;5;241m=\u001b[39m \u001b[38;5;28;01mFalse\u001b[39;00m) \u001b[38;5;241m-\u001b[39m\u001b[38;5;241m>\u001b[39m th\u001b[38;5;241m.\u001b[39mTensor:\n\u001b[1;32m--> 353\u001b[0m     \u001b[38;5;28;01mreturn\u001b[39;00m \u001b[38;5;28;43mself\u001b[39;49m\u001b[38;5;241;43m.\u001b[39;49m\u001b[43mactor\u001b[49m\u001b[43m(\u001b[49m\u001b[43mobservation\u001b[49m\u001b[43m,\u001b[49m\u001b[43m \u001b[49m\u001b[43mdeterministic\u001b[49m\u001b[43m)\u001b[49m\n",
            "File \u001b[1;32mc:\\Users\\Xi Chen\\.conda\\envs\\mlenv\\lib\\site-packages\\torch\\nn\\modules\\module.py:1511\u001b[0m, in \u001b[0;36mModule._wrapped_call_impl\u001b[1;34m(self, *args, **kwargs)\u001b[0m\n\u001b[0;32m   1509\u001b[0m     \u001b[38;5;28;01mreturn\u001b[39;00m \u001b[38;5;28mself\u001b[39m\u001b[38;5;241m.\u001b[39m_compiled_call_impl(\u001b[38;5;241m*\u001b[39margs, \u001b[38;5;241m*\u001b[39m\u001b[38;5;241m*\u001b[39mkwargs)  \u001b[38;5;66;03m# type: ignore[misc]\u001b[39;00m\n\u001b[0;32m   1510\u001b[0m \u001b[38;5;28;01melse\u001b[39;00m:\n\u001b[1;32m-> 1511\u001b[0m     \u001b[38;5;28;01mreturn\u001b[39;00m \u001b[38;5;28mself\u001b[39m\u001b[38;5;241m.\u001b[39m_call_impl(\u001b[38;5;241m*\u001b[39margs, \u001b[38;5;241m*\u001b[39m\u001b[38;5;241m*\u001b[39mkwargs)\n",
            "File \u001b[1;32mc:\\Users\\Xi Chen\\.conda\\envs\\mlenv\\lib\\site-packages\\torch\\nn\\modules\\module.py:1520\u001b[0m, in \u001b[0;36mModule._call_impl\u001b[1;34m(self, *args, **kwargs)\u001b[0m\n\u001b[0;32m   1515\u001b[0m \u001b[38;5;66;03m# If we don't have any hooks, we want to skip the rest of the logic in\u001b[39;00m\n\u001b[0;32m   1516\u001b[0m \u001b[38;5;66;03m# this function, and just call forward.\u001b[39;00m\n\u001b[0;32m   1517\u001b[0m \u001b[38;5;28;01mif\u001b[39;00m \u001b[38;5;129;01mnot\u001b[39;00m (\u001b[38;5;28mself\u001b[39m\u001b[38;5;241m.\u001b[39m_backward_hooks \u001b[38;5;129;01mor\u001b[39;00m \u001b[38;5;28mself\u001b[39m\u001b[38;5;241m.\u001b[39m_backward_pre_hooks \u001b[38;5;129;01mor\u001b[39;00m \u001b[38;5;28mself\u001b[39m\u001b[38;5;241m.\u001b[39m_forward_hooks \u001b[38;5;129;01mor\u001b[39;00m \u001b[38;5;28mself\u001b[39m\u001b[38;5;241m.\u001b[39m_forward_pre_hooks\n\u001b[0;32m   1518\u001b[0m         \u001b[38;5;129;01mor\u001b[39;00m _global_backward_pre_hooks \u001b[38;5;129;01mor\u001b[39;00m _global_backward_hooks\n\u001b[0;32m   1519\u001b[0m         \u001b[38;5;129;01mor\u001b[39;00m _global_forward_hooks \u001b[38;5;129;01mor\u001b[39;00m _global_forward_pre_hooks):\n\u001b[1;32m-> 1520\u001b[0m     \u001b[38;5;28;01mreturn\u001b[39;00m forward_call(\u001b[38;5;241m*\u001b[39margs, \u001b[38;5;241m*\u001b[39m\u001b[38;5;241m*\u001b[39mkwargs)\n\u001b[0;32m   1522\u001b[0m \u001b[38;5;28;01mtry\u001b[39;00m:\n\u001b[0;32m   1523\u001b[0m     result \u001b[38;5;241m=\u001b[39m \u001b[38;5;28;01mNone\u001b[39;00m\n",
            "File \u001b[1;32mc:\\Users\\Xi Chen\\.conda\\envs\\mlenv\\lib\\site-packages\\stable_baselines3\\sac\\policies.py:168\u001b[0m, in \u001b[0;36mActor.forward\u001b[1;34m(self, obs, deterministic)\u001b[0m\n\u001b[0;32m    167\u001b[0m \u001b[38;5;28;01mdef\u001b[39;00m \u001b[38;5;21mforward\u001b[39m(\u001b[38;5;28mself\u001b[39m, obs: PyTorchObs, deterministic: \u001b[38;5;28mbool\u001b[39m \u001b[38;5;241m=\u001b[39m \u001b[38;5;28;01mFalse\u001b[39;00m) \u001b[38;5;241m-\u001b[39m\u001b[38;5;241m>\u001b[39m th\u001b[38;5;241m.\u001b[39mTensor:\n\u001b[1;32m--> 168\u001b[0m     mean_actions, log_std, kwargs \u001b[38;5;241m=\u001b[39m \u001b[38;5;28;43mself\u001b[39;49m\u001b[38;5;241;43m.\u001b[39;49m\u001b[43mget_action_dist_params\u001b[49m\u001b[43m(\u001b[49m\u001b[43mobs\u001b[49m\u001b[43m)\u001b[49m\n\u001b[0;32m    169\u001b[0m     \u001b[38;5;66;03m# Note: the action is squashed\u001b[39;00m\n\u001b[0;32m    170\u001b[0m     \u001b[38;5;28;01mreturn\u001b[39;00m \u001b[38;5;28mself\u001b[39m\u001b[38;5;241m.\u001b[39maction_dist\u001b[38;5;241m.\u001b[39mactions_from_params(mean_actions, log_std, deterministic\u001b[38;5;241m=\u001b[39mdeterministic, \u001b[38;5;241m*\u001b[39m\u001b[38;5;241m*\u001b[39mkwargs)\n",
            "File \u001b[1;32mc:\\Users\\Xi Chen\\.conda\\envs\\mlenv\\lib\\site-packages\\stable_baselines3\\sac\\policies.py:155\u001b[0m, in \u001b[0;36mActor.get_action_dist_params\u001b[1;34m(self, obs)\u001b[0m\n\u001b[0;32m    147\u001b[0m \u001b[38;5;28;01mdef\u001b[39;00m \u001b[38;5;21mget_action_dist_params\u001b[39m(\u001b[38;5;28mself\u001b[39m, obs: PyTorchObs) \u001b[38;5;241m-\u001b[39m\u001b[38;5;241m>\u001b[39m Tuple[th\u001b[38;5;241m.\u001b[39mTensor, th\u001b[38;5;241m.\u001b[39mTensor, Dict[\u001b[38;5;28mstr\u001b[39m, th\u001b[38;5;241m.\u001b[39mTensor]]:\n\u001b[0;32m    148\u001b[0m \u001b[38;5;250m    \u001b[39m\u001b[38;5;124;03m\"\"\"\u001b[39;00m\n\u001b[0;32m    149\u001b[0m \u001b[38;5;124;03m    Get the parameters for the action distribution.\u001b[39;00m\n\u001b[0;32m    150\u001b[0m \n\u001b[1;32m   (...)\u001b[0m\n\u001b[0;32m    153\u001b[0m \u001b[38;5;124;03m        Mean, standard deviation and optional keyword arguments.\u001b[39;00m\n\u001b[0;32m    154\u001b[0m \u001b[38;5;124;03m    \"\"\"\u001b[39;00m\n\u001b[1;32m--> 155\u001b[0m     features \u001b[38;5;241m=\u001b[39m \u001b[38;5;28;43mself\u001b[39;49m\u001b[38;5;241;43m.\u001b[39;49m\u001b[43mextract_features\u001b[49m\u001b[43m(\u001b[49m\u001b[43mobs\u001b[49m\u001b[43m,\u001b[49m\u001b[43m \u001b[49m\u001b[38;5;28;43mself\u001b[39;49m\u001b[38;5;241;43m.\u001b[39;49m\u001b[43mfeatures_extractor\u001b[49m\u001b[43m)\u001b[49m\n\u001b[0;32m    156\u001b[0m     latent_pi \u001b[38;5;241m=\u001b[39m \u001b[38;5;28mself\u001b[39m\u001b[38;5;241m.\u001b[39mlatent_pi(features)\n\u001b[0;32m    157\u001b[0m     mean_actions \u001b[38;5;241m=\u001b[39m \u001b[38;5;28mself\u001b[39m\u001b[38;5;241m.\u001b[39mmu(latent_pi)\n",
            "File \u001b[1;32mc:\\Users\\Xi Chen\\.conda\\envs\\mlenv\\lib\\site-packages\\stable_baselines3\\common\\policies.py:130\u001b[0m, in \u001b[0;36mBaseModel.extract_features\u001b[1;34m(self, obs, features_extractor)\u001b[0m\n\u001b[0;32m    122\u001b[0m \u001b[38;5;28;01mdef\u001b[39;00m \u001b[38;5;21mextract_features\u001b[39m(\u001b[38;5;28mself\u001b[39m, obs: PyTorchObs, features_extractor: BaseFeaturesExtractor) \u001b[38;5;241m-\u001b[39m\u001b[38;5;241m>\u001b[39m th\u001b[38;5;241m.\u001b[39mTensor:\n\u001b[0;32m    123\u001b[0m \u001b[38;5;250m    \u001b[39m\u001b[38;5;124;03m\"\"\"\u001b[39;00m\n\u001b[0;32m    124\u001b[0m \u001b[38;5;124;03m    Preprocess the observation if needed and extract features.\u001b[39;00m\n\u001b[0;32m    125\u001b[0m \n\u001b[1;32m   (...)\u001b[0m\n\u001b[0;32m    128\u001b[0m \u001b[38;5;124;03m    :return: The extracted features\u001b[39;00m\n\u001b[0;32m    129\u001b[0m \u001b[38;5;124;03m    \"\"\"\u001b[39;00m\n\u001b[1;32m--> 130\u001b[0m     preprocessed_obs \u001b[38;5;241m=\u001b[39m \u001b[43mpreprocess_obs\u001b[49m\u001b[43m(\u001b[49m\u001b[43mobs\u001b[49m\u001b[43m,\u001b[49m\u001b[43m \u001b[49m\u001b[38;5;28;43mself\u001b[39;49m\u001b[38;5;241;43m.\u001b[39;49m\u001b[43mobservation_space\u001b[49m\u001b[43m,\u001b[49m\u001b[43m \u001b[49m\u001b[43mnormalize_images\u001b[49m\u001b[38;5;241;43m=\u001b[39;49m\u001b[38;5;28;43mself\u001b[39;49m\u001b[38;5;241;43m.\u001b[39;49m\u001b[43mnormalize_images\u001b[49m\u001b[43m)\u001b[49m\n\u001b[0;32m    131\u001b[0m     \u001b[38;5;28;01mreturn\u001b[39;00m features_extractor(preprocessed_obs)\n",
            "File \u001b[1;32mc:\\Users\\Xi Chen\\.conda\\envs\\mlenv\\lib\\site-packages\\stable_baselines3\\common\\preprocessing.py:113\u001b[0m, in \u001b[0;36mpreprocess_obs\u001b[1;34m(obs, observation_space, normalize_images)\u001b[0m\n\u001b[0;32m    111\u001b[0m     preprocessed_obs \u001b[38;5;241m=\u001b[39m {}\n\u001b[0;32m    112\u001b[0m     \u001b[38;5;28;01mfor\u001b[39;00m key, _obs \u001b[38;5;129;01min\u001b[39;00m obs\u001b[38;5;241m.\u001b[39mitems():\n\u001b[1;32m--> 113\u001b[0m         preprocessed_obs[key] \u001b[38;5;241m=\u001b[39m \u001b[43mpreprocess_obs\u001b[49m\u001b[43m(\u001b[49m\u001b[43m_obs\u001b[49m\u001b[43m,\u001b[49m\u001b[43m \u001b[49m\u001b[43mobservation_space\u001b[49m\u001b[43m[\u001b[49m\u001b[43mkey\u001b[49m\u001b[43m]\u001b[49m\u001b[43m,\u001b[49m\u001b[43m \u001b[49m\u001b[43mnormalize_images\u001b[49m\u001b[38;5;241;43m=\u001b[39;49m\u001b[43mnormalize_images\u001b[49m\u001b[43m)\u001b[49m\n\u001b[0;32m    114\u001b[0m     \u001b[38;5;28;01mreturn\u001b[39;00m preprocessed_obs  \u001b[38;5;66;03m# type: ignore[return-value]\u001b[39;00m\n\u001b[0;32m    116\u001b[0m \u001b[38;5;28;01massert\u001b[39;00m \u001b[38;5;28misinstance\u001b[39m(obs, th\u001b[38;5;241m.\u001b[39mTensor), \u001b[38;5;124mf\u001b[39m\u001b[38;5;124m\"\u001b[39m\u001b[38;5;124mExpecting a torch Tensor, but got \u001b[39m\u001b[38;5;132;01m{\u001b[39;00m\u001b[38;5;28mtype\u001b[39m(obs)\u001b[38;5;132;01m}\u001b[39;00m\u001b[38;5;124m\"\u001b[39m\n",
            "File \u001b[1;32mc:\\Users\\Xi Chen\\.conda\\envs\\mlenv\\lib\\site-packages\\stable_baselines3\\common\\preprocessing.py:125\u001b[0m, in \u001b[0;36mpreprocess_obs\u001b[1;34m(obs, observation_space, normalize_images)\u001b[0m\n\u001b[0;32m    121\u001b[0m     \u001b[38;5;28;01mreturn\u001b[39;00m obs\u001b[38;5;241m.\u001b[39mfloat()\n\u001b[0;32m    123\u001b[0m \u001b[38;5;28;01melif\u001b[39;00m \u001b[38;5;28misinstance\u001b[39m(observation_space, spaces\u001b[38;5;241m.\u001b[39mDiscrete):\n\u001b[0;32m    124\u001b[0m     \u001b[38;5;66;03m# One hot encoding and convert to float to avoid errors\u001b[39;00m\n\u001b[1;32m--> 125\u001b[0m     \u001b[38;5;28;01mreturn\u001b[39;00m \u001b[43mF\u001b[49m\u001b[38;5;241;43m.\u001b[39;49m\u001b[43mone_hot\u001b[49m\u001b[43m(\u001b[49m\u001b[43mobs\u001b[49m\u001b[38;5;241;43m.\u001b[39;49m\u001b[43mlong\u001b[49m\u001b[43m(\u001b[49m\u001b[43m)\u001b[49m\u001b[43m,\u001b[49m\u001b[43m \u001b[49m\u001b[43mnum_classes\u001b[49m\u001b[38;5;241;43m=\u001b[39;49m\u001b[38;5;28;43mint\u001b[39;49m\u001b[43m(\u001b[49m\u001b[43mobservation_space\u001b[49m\u001b[38;5;241;43m.\u001b[39;49m\u001b[43mn\u001b[49m\u001b[43m)\u001b[49m\u001b[43m)\u001b[49m\u001b[38;5;241m.\u001b[39mfloat()\n\u001b[0;32m    127\u001b[0m \u001b[38;5;28;01melif\u001b[39;00m \u001b[38;5;28misinstance\u001b[39m(observation_space, spaces\u001b[38;5;241m.\u001b[39mMultiDiscrete):\n\u001b[0;32m    128\u001b[0m     \u001b[38;5;66;03m# Tensor concatenation of one hot encodings of each Categorical sub-space\u001b[39;00m\n\u001b[0;32m    129\u001b[0m     \u001b[38;5;28;01mreturn\u001b[39;00m th\u001b[38;5;241m.\u001b[39mcat(\n\u001b[0;32m    130\u001b[0m         [\n\u001b[0;32m    131\u001b[0m             F\u001b[38;5;241m.\u001b[39mone_hot(obs_\u001b[38;5;241m.\u001b[39mlong(), num_classes\u001b[38;5;241m=\u001b[39m\u001b[38;5;28mint\u001b[39m(observation_space\u001b[38;5;241m.\u001b[39mnvec[idx]))\u001b[38;5;241m.\u001b[39mfloat()\n\u001b[1;32m   (...)\u001b[0m\n\u001b[0;32m    134\u001b[0m         dim\u001b[38;5;241m=\u001b[39m\u001b[38;5;241m-\u001b[39m\u001b[38;5;241m1\u001b[39m,\n\u001b[0;32m    135\u001b[0m     )\u001b[38;5;241m.\u001b[39mview(obs\u001b[38;5;241m.\u001b[39mshape[\u001b[38;5;241m0\u001b[39m], \u001b[38;5;28msum\u001b[39m(observation_space\u001b[38;5;241m.\u001b[39mnvec))\n",
            "\u001b[1;31mRuntimeError\u001b[0m: Class values must be smaller than num_classes."
          ]
        }
      ],
      "source": [
        "obs = vec_env.reset()\n",
        "n_steps = 20\n",
        "for step in range(n_steps):\n",
        "    action, _ = model.predict(obs, deterministic=True)\n",
        "\n",
        "    print(f\"Step {step + 1}\")\n",
        "    print(\"Action: \", action)\n",
        "\n",
        "    obs, reward, done, info = vec_env.step(action)\n",
        "    print(\"obs=\", obs, \"reward=\", reward, \"done=\", done)\n",
        "\n",
        "    vec_env.render()\n",
        "\n",
        "    if done:\n",
        "        # Note that the VecEnv resets automatically\n",
        "        # when a done signal is encountered\n",
        "        print(\"Goal reached!\", \"reward=\", reward)\n",
        "        break"
      ]
    },
    {
      "cell_type": "code",
      "execution_count": null,
      "metadata": {},
      "outputs": [],
      "source": []
    }
  ],
  "metadata": {
    "colab": {
      "provenance": []
    },
    "kernelspec": {
      "display_name": "Python 3",
      "name": "python3"
    },
    "language_info": {
      "codemirror_mode": {
        "name": "ipython",
        "version": 3
      },
      "file_extension": ".py",
      "mimetype": "text/x-python",
      "name": "python",
      "nbconvert_exporter": "python",
      "pygments_lexer": "ipython3",
      "version": "3.9.18"
    }
  },
  "nbformat": 4,
  "nbformat_minor": 0
}
